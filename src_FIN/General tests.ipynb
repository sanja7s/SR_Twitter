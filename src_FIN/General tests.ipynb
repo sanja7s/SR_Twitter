{
 "cells": [
  {
   "cell_type": "code",
   "execution_count": 9,
   "metadata": {},
   "outputs": [],
   "source": [
    "import os\n",
    "from graph_tool.all import *\n",
    "import codecs\n",
    "from collections import defaultdict, OrderedDict\n",
    "import matplotlib.pyplot as plt\n",
    "import numpy as np\n",
    "%matplotlib inline \n",
    "from igraph import *\n",
    "from scipy.stats.stats import pearsonr\n",
    "from scipy import stats"
   ]
  },
  {
   "cell_type": "code",
   "execution_count": 10,
   "metadata": {},
   "outputs": [],
   "source": [
    "WORKING_FOLDER = '../../../DATA/FIN/'\n",
    "os.chdir(WORKING_FOLDER)\n",
    "f_in_graph = 'mention_graph_weights.dat'\n",
    "# this is a .tree file\n",
    "f_in_Infomap_output_comm = 'dir_weighted.tree'"
   ]
  },
  {
   "cell_type": "markdown",
   "metadata": {},
   "source": [
    "# Semantic capital"
   ]
  },
  {
   "cell_type": "code",
   "execution_count": 11,
   "metadata": {},
   "outputs": [],
   "source": [
    "def read_sem_capital(f_name='user_entities.tab', tname='entities'):\n",
    "    f = open(f_name, \"r\")\n",
    "    cap = defaultdict(int)\n",
    "    cnt = 0\n",
    "    for line in f:\n",
    "        if tname == 'sentiment':\n",
    "            (vid, vn, val) = line.split('\\t')\n",
    "            val = float(val)\n",
    "        else:\n",
    "            (vid, val) = line.split('\\t')\n",
    "            val = float(val)\n",
    "        cap[vid] = val\n",
    "        cnt += 1\n",
    "    return cap"
   ]
  },
  {
   "cell_type": "code",
   "execution_count": 13,
   "metadata": {},
   "outputs": [
    {
     "data": {
      "text/plain": [
       "(10.719749828278081, 8.0371401642030165)"
      ]
     },
     "execution_count": 13,
     "metadata": {},
     "output_type": "execute_result"
    }
   ],
   "source": [
    "def find_avg_SEM_cap_in_the_network():\n",
    "\n",
    "    sem_cap = read_sem_capital()\n",
    "    \n",
    "    res = sem_cap.values()\n",
    "    \n",
    "    res_mean = np.mean(np.array(res))\n",
    "    res_stdev = np.std(np.array(res))\n",
    "    \n",
    "    return res_mean, res_stdev\n",
    "\n",
    "find_avg_SEM_cap_in_the_network()"
   ]
  },
  {
   "cell_type": "markdown",
   "metadata": {},
   "source": [
    "# Status inconcistency"
   ]
  },
  {
   "cell_type": "code",
   "execution_count": 14,
   "metadata": {},
   "outputs": [
    {
     "data": {
      "text/plain": [
       "(-0.10322751746229998, 0.62554694747423045)"
      ]
     },
     "execution_count": 14,
     "metadata": {},
     "output_type": "execute_result"
    }
   ],
   "source": [
    "def find_avg_ST_INC_in_the_network():\n",
    "    \n",
    "    sem_cap = read_sem_capital(f_name='status_inconsistency', tname='status_inconsistency')\n",
    "    \n",
    "    res = sem_cap.values()\n",
    "    \n",
    "    res_mean = np.mean(np.array(res))\n",
    "    res_stdev = np.std(np.array(res))\n",
    "    \n",
    "    return res_mean, res_stdev\n",
    "\n",
    "find_avg_ST_INC_in_the_network()"
   ]
  },
  {
   "cell_type": "markdown",
   "metadata": {},
   "source": [
    "# Semantic relatedness"
   ]
  },
  {
   "cell_type": "code",
   "execution_count": 18,
   "metadata": {},
   "outputs": [
    {
     "data": {
      "text/plain": [
       "(0.23445552024599237, 0.295632719144103)"
      ]
     },
     "execution_count": 18,
     "metadata": {},
     "output_type": "execute_result"
    }
   ],
   "source": [
    "def find_avg_SR_in_the_undir_network():\n",
    "    fn = 'directed_mention_graph_with_SR_NCOL_edgelist'\n",
    "    f = open(fn, 'r')\n",
    "    res = []\n",
    "    for line in f:\n",
    "        (u1, u2, SR) = line.split()\n",
    "        res.append(float(SR.replace(',','.')))\n",
    "            \n",
    "    res_mean = np.mean(np.array(res))\n",
    "    res_stdev = np.std(np.array(res))\n",
    "    \n",
    "    return res_mean, res_stdev\n",
    "\n",
    "find_avg_SR_in_the_undir_network()"
   ]
  },
  {
   "cell_type": "code",
   "execution_count": 25,
   "metadata": {},
   "outputs": [
    {
     "name": "stdout",
     "output_type": "stream",
     "text": [
      "DIR\n",
      "IGRAPH DNW- 26717 99910 -- \n",
      "+ attr: name (v), weight (e)\n",
      "UNDIR\n",
      "IGRAPH UNW- 22512 29950 -- \n",
      "+ attr: name (v), weight (e)\n"
     ]
    }
   ],
   "source": [
    "def SR_graphs_stats():\n",
    "    \n",
    "    print 'DIR'\n",
    "    G = Graph.Read_Ncol('directed_mention_graph_with_SR_NCOL_edgelist', weights=True, names=True)\n",
    "    print G.summary()\n",
    "    \n",
    "    print 'UNDIR'\n",
    "    G = Graph.Read_Ncol('undirected_mention_graph_with_SR_NCOL_edgelist', directed=False, weights=True, names=True)\n",
    "    print G.summary()\n",
    "    \n",
    "SR_graphs_stats()"
   ]
  },
  {
   "cell_type": "code",
   "execution_count": null,
   "metadata": {},
   "outputs": [],
   "source": []
  },
  {
   "cell_type": "code",
   "execution_count": null,
   "metadata": {},
   "outputs": [],
   "source": []
  }
 ],
 "metadata": {
  "kernelspec": {
   "display_name": "Python 2",
   "language": "python",
   "name": "python2"
  },
  "language_info": {
   "codemirror_mode": {
    "name": "ipython",
    "version": 2
   },
   "file_extension": ".py",
   "mimetype": "text/x-python",
   "name": "python",
   "nbconvert_exporter": "python",
   "pygments_lexer": "ipython2",
   "version": "2.7.12"
  }
 },
 "nbformat": 4,
 "nbformat_minor": 2
}
